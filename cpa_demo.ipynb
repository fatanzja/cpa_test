{
 "cells": [
  {
   "cell_type": "markdown",
   "metadata": {},
   "source": [
    "# 中国人口分析Demo\n",
    "**作者**：陈艺荣    \n",
    "**主页**: http://www.yirongchen.com/    \n",
    "**依赖**：python3.7、pytorch1.3.0    "
   ]
  },
  {
   "cell_type": "markdown",
   "metadata": {},
   "source": [
    "## 安装相应依赖包\n",
    "```bash\n",
    "conda install pytorch torchvision cpuonly -c pytorch\n",
    "pip install pysimplegui\n",
    "\n",
    "```"
   ]
  },
  {
   "cell_type": "code",
   "execution_count": 1,
   "metadata": {},
   "outputs": [
    {
     "name": "stdout",
     "output_type": "stream",
     "text": [
      "tensor([[14.2089]], grad_fn=<AddmmBackward>)\n"
     ]
    }
   ],
   "source": [
    "# 导入相应包\n",
    "import torch\n",
    "import numpy as np\n",
    "import PySimpleGUI as sg\n",
    "# 定义导入模型的函数\n",
    "def restore_net(netname):\n",
    "    # restore entire net1 to net2\n",
    "    net = torch.load(netname)\n",
    "    return net\n",
    "\n",
    "# 窗口内的所有控件.\n",
    "sg.change_look_and_feel('DarkBlue1')\n",
    "layout = [ [sg.Text('选择你的数据模型')],\n",
    "            [sg.Input(), sg.FileBrowse()],\n",
    "            [sg.Text('输入需要预测的年份'), sg.InputText()],\n",
    "            [sg.Button('确认'), sg.Button('退出')] ]\n",
    " \n",
    "# 生成窗口\n",
    "window = sg.Window('中国人口预测', layout)\n",
    "# 消息处理和输入消息接收\n",
    "while True:\n",
    "    event, values = window.read()\n",
    "    if event in (None, '退出'): \n",
    "        break\n",
    "    reload_net = restore_net(values[0])\n",
    "    year = torch.FloatTensor([[int(values[1])-1958]])\n",
    "    predict_cp = reload_net(year)\n",
    "    print(predict_cp)\n",
    "    sg.Popup(\"预测的人口为：\", predict_cp.item(),\"亿\")\n",
    "\n",
    "window.close()\n",
    "del window"
   ]
  },
  {
   "cell_type": "code",
   "execution_count": null,
   "metadata": {},
   "outputs": [],
   "source": []
  }
 ],
 "metadata": {
  "kernelspec": {
   "display_name": "Python 3",
   "language": "python",
   "name": "python3"
  },
  "language_info": {
   "codemirror_mode": {
    "name": "ipython",
    "version": 3
   },
   "file_extension": ".py",
   "mimetype": "text/x-python",
   "name": "python",
   "nbconvert_exporter": "python",
   "pygments_lexer": "ipython3",
   "version": "3.6.9"
  }
 },
 "nbformat": 4,
 "nbformat_minor": 2
}
