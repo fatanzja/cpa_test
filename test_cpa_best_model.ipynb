{
 "cells": [
  {
   "cell_type": "markdown",
   "metadata": {},
   "source": [
    "# 中国人口分析\n",
    "**作者**：陈艺荣    \n",
    "**主页**: http://www.yirongchen.com/    \n",
    "**依赖**：python3.7、pytorch1.3.0    "
   ]
  },
  {
   "cell_type": "code",
   "execution_count": 1,
   "metadata": {},
   "outputs": [],
   "source": [
    "# 导入相应包\n",
    "import torch\n",
    "import numpy as np\n",
    "import torch.nn.functional as F\n",
    "import matplotlib.pyplot as plt\n",
    "from cpa import PAnet\n",
    "%matplotlib inline"
   ]
  },
  {
   "cell_type": "code",
   "execution_count": 2,
   "metadata": {},
   "outputs": [
    {
     "name": "stderr",
     "output_type": "stream",
     "text": [
      "C:\\Users\\cc\\Anaconda3\\lib\\site-packages\\ipykernel_launcher.py:2: UserWarning: torch.range is deprecated in favor of torch.arange and will be removed in 0.5. Note that arange generates values in [start; end), not [start; end].\n",
      "  \n"
     ]
    },
    {
     "data": {
      "image/png": "[encoded data removed]",
      "text/plain": [
       "<Figure size 432x288 with 1 Axes>"
      ]
     },
     "metadata": {
      "needs_background": "light"
     },
     "output_type": "display_data"
    }
   ],
   "source": [
    "# 导入数据\n",
    "year = torch.unsqueeze(torch.range(start=1959, end=1993, step=1, out=None), dim=1) \n",
    "year = year - 1958  # year-1958\n",
    "cp = torch.unsqueeze(torch.tensor([6.55, 6.67, 6.6, 6.66, 6.82, 6.98, 7.15, 7.35, 7.55,\n",
    "                   7.75, 7.96, 8.18, 8.41, 8.62, 8.82, 9.0, 9.16, 9.31,\n",
    "                   9.43, 9.56, 9.69, 9.81, 9.94, 10.09, 10.23, 10.37, 10.51,\n",
    "                   10.67, 10.84, 11.02, 11.19, 11.35, 11.51, 11.65, 11.78\n",
    "                  ]), dim=1)   # 单位：亿\n",
    "plt.scatter(year.data.numpy(), cp.data.numpy())\n",
    "plt.show()"
   ]
  },
  {
   "cell_type": "code",
   "execution_count": 3,
   "metadata": {},
   "outputs": [],
   "source": [
    "# 训练并且保存网络函数\n",
    "def trainandsave(EPOCH, LR, HIDDEN_SIZE, HIDDEN_LAYERS):\n",
    "    '''\n",
    "    EPOCH          训练次数\n",
    "    LR             学习率\n",
    "    HIDDEN_SIZE    隐藏层网络宽度\n",
    "    HIDDEN_LAYERS  隐藏层深度\n",
    "    \n",
    "    '''\n",
    "    time = np.arange(EPOCH)   # 产生自变量\n",
    "    loss_list = []\n",
    "    cn_panet = PAnet(n_feature=1, n_hidden=HIDDEN_SIZE, n_output=1, hidden_num=HIDDEN_LAYERS-1)     # define the network\n",
    "    print(cn_panet)  # net architecture\n",
    "    optimizer = torch.optim.SGD(cn_panet.parameters(), lr=LR)  # 调小学习率\n",
    "    loss_func = torch.nn.MSELoss()  # this is for regression mean squared loss\n",
    "    for t in range(EPOCH):\n",
    "        prediction = cn_panet(year)          # input x and predict based on x\n",
    "        loss = loss_func(prediction, cp)     # must be (1. nn output, 2. target)\n",
    "        loss_list.append(loss)\n",
    "\n",
    "        optimizer.zero_grad()                # clear gradients for next train\n",
    "        loss.backward()                      # backpropagation, compute gradients\n",
    "        optimizer.step()                     # apply gradients    \n",
    "    torch.save(cn_panet, 'cn_panet.pkl')  # save entire net\n",
    "    print(\"成功保存网络\")\n",
    "    return time, loss_list"
   ]
  },
  {
   "cell_type": "code",
   "execution_count": 4,
   "metadata": {},
   "outputs": [],
   "source": [
    "# 读取网络模型函数\n",
    "def restore_net(netname):\n",
    "    # restore entire net1 to net2\n",
    "    net = torch.load(netname)\n",
    "    return net"
   ]
  },
  {
   "cell_type": "code",
   "execution_count": 5,
   "metadata": {},
   "outputs": [
    {
     "name": "stdout",
     "output_type": "stream",
     "text": [
      "PAnet(\n",
      "  (hidden1): Linear(in_features=1, out_features=32, bias=True)\n",
      "  (hidden2): ModuleList(\n",
      "    (0): Linear(in_features=32, out_features=32, bias=True)\n",
      "    (1): Linear(in_features=32, out_features=32, bias=True)\n",
      "    (2): Linear(in_features=32, out_features=32, bias=True)\n",
      "    (3): Linear(in_features=32, out_features=32, bias=True)\n",
      "    (4): Linear(in_features=32, out_features=32, bias=True)\n",
      "    (5): Linear(in_features=32, out_features=32, bias=True)\n",
      "    (6): Linear(in_features=32, out_features=32, bias=True)\n",
      "  )\n",
      "  (predict): Linear(in_features=32, out_features=1, bias=True)\n",
      ")\n"
     ]
    },
    {
     "name": "stderr",
     "output_type": "stream",
     "text": [
      "C:\\Users\\cc\\Anaconda3\\lib\\site-packages\\torch\\serialization.py:292: UserWarning: Couldn't retrieve source code for container of type PAnet. It won't be checked for correctness upon loading.\n",
      "  \"type \" + obj.__name__ + \". It won't be checked \"\n",
      "C:\\Users\\cc\\Anaconda3\\lib\\site-packages\\torch\\serialization.py:292: UserWarning: Couldn't retrieve source code for container of type Linear. It won't be checked for correctness upon loading.\n",
      "  \"type \" + obj.__name__ + \". It won't be checked \"\n",
      "C:\\Users\\cc\\Anaconda3\\lib\\site-packages\\torch\\serialization.py:292: UserWarning: Couldn't retrieve source code for container of type ModuleList. It won't be checked for correctness upon loading.\n",
      "  \"type \" + obj.__name__ + \". It won't be checked \"\n"
     ]
    },
    {
     "name": "stdout",
     "output_type": "stream",
     "text": [
      "成功保存网络\n"
     ]
    },
    {
     "data": {
      "text/plain": [
       "[<matplotlib.lines.Line2D at 0x967af60>]"
      ]
     },
     "execution_count": 5,
     "metadata": {},
     "output_type": "execute_result"
    },
    {
     "data": {
      "image/png": "[encoded data removed]",
      "text/plain": [
       "<Figure size 432x288 with 1 Axes>"
      ]
     },
     "metadata": {
      "needs_background": "light"
     },
     "output_type": "display_data"
    }
   ],
   "source": [
    "# 根据自己在上周获得的最优参数进行配置\n",
    "EPOCH = 5000 # 训练次数\n",
    "LR = 0.003 # 学习率\n",
    "HIDDEN_SIZE = 32 # 隐藏层网络宽度\n",
    "HIDDEN_LAYERS = 8 # 隐藏层深度\n",
    "time, loss_list_02 = trainandsave(EPOCH, LR, HIDDEN_SIZE, HIDDEN_LAYERS)\n",
    "plt.plot(time, loss_list_02, 'g-', label='损失函数曲线') "
   ]
  },
  {
   "cell_type": "code",
   "execution_count": 6,
   "metadata": {},
   "outputs": [
    {
     "name": "stdout",
     "output_type": "stream",
     "text": [
      "torch.Size([1, 1])\n",
      "预测的2019年人口为： 15.819079399108887 亿\n"
     ]
    }
   ],
   "source": [
    "reload_net = restore_net('cn_panet.pkl')\n",
    "year_2019 = 2019 - 1958\n",
    "year_2019 = torch.FloatTensor([[year_2019]])\n",
    "print(year_2019.shape)\n",
    "cp_2019 = reload_net(year_2019)\n",
    "print(\"预测的2019年人口为：\",cp_2019.item(),\"亿\")"
   ]
  }
 ],
 "metadata": {
  "kernelspec": {
   "display_name": "Python 3",
   "language": "python",
   "name": "python3"
  },
  "language_info": {
   "codemirror_mode": {
    "name": "ipython",
    "version": 3
   },
   "file_extension": ".py",
   "mimetype": "text/x-python",
   "name": "python",
   "nbconvert_exporter": "python",
   "pygments_lexer": "ipython3",
   "version": "3.6.9"
  }
 },
 "nbformat": 4,
 "nbformat_minor": 2
}
