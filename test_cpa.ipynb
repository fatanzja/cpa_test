{
 "cells": [
  {
   "cell_type": "markdown",
   "metadata": {},
   "source": [
    "# 中国人口分析\n",
    "**作者**：陈艺荣    \n",
    "**主页**: http://www.yirongchen.com/    \n",
    "**依赖**：python3.7、pytorch1.3.0    "
   ]
  },
  {
   "cell_type": "code",
   "execution_count": 1,
   "metadata": {},
   "outputs": [],
   "source": [
    "# 导入相应包\n",
    "import torch\n",
    "import numpy as np\n",
    "import torch.nn.functional as F\n",
    "import matplotlib.pyplot as plt\n",
    "from cpa import PAnet\n",
    "%matplotlib inline"
   ]
  },
  {
   "cell_type": "code",
   "execution_count": 2,
   "metadata": {},
   "outputs": [
    {
     "name": "stderr",
     "output_type": "stream",
     "text": [
      "D:\\mysoftware\\anaconda\\envs\\py36\\lib\\site-packages\\ipykernel_launcher.py:2: UserWarning: torch.range is deprecated in favor of torch.arange and will be removed in 0.5. Note that arange generates values in [start; end), not [start; end].\n",
      "  \n"
     ]
    },
    {
     "data": {
      "image/png": "[encoded data removed]",
      "text/plain": [
       "<Figure size 432x288 with 1 Axes>"
      ]
     },
     "metadata": {
      "needs_background": "light"
     },
     "output_type": "display_data"
    }
   ],
   "source": [
    "# 获取数据\n",
    "year = torch.unsqueeze(torch.range(start=1959, end=2018, step=1, out=None), dim=1) \n",
    "year = year - 1958  # year-1958\n",
    "cp = torch.unsqueeze(torch.tensor([6.55, 6.67, 6.6, 6.66, 6.82, 6.98, 7.15, 7.35, 7.55,\n",
    "                                   7.75, 7.96, 8.18, 8.41, 8.62, 8.82, 9.0, 9.16, 9.31,\n",
    "                                   9.43, 9.56, 9.69, 9.81, 9.94, 10.09, 10.23, 10.37, 10.51,\n",
    "                                   10.67, 10.84, 11.02, 11.19, 11.35, 11.51, 11.65, 11.78, 11.92, \n",
    "                                   12.05, 12.18, 12.3, 12.42, 12.53, 12.63, 12.72, 12.8, 12.88,\n",
    "                                   12.96, 13.04, 13.11, 13.18, 13.25, 13.31, 13.38, 13.44, 13.51,\n",
    "                                   13.57, 13.64, 13.71, 13.79, 13.86, 13.93]), dim=1)   # 单位：亿\n",
    "plt.scatter(year.data.numpy(), cp.data.numpy())\n",
    "plt.show()"
   ]
  },
  {
   "cell_type": "code",
   "execution_count": 3,
   "metadata": {},
   "outputs": [
    {
     "data": {
      "text/plain": [
       "<torch._C.Generator at 0x17c69818890>"
      ]
     },
     "execution_count": 3,
     "metadata": {},
     "output_type": "execute_result"
    }
   ],
   "source": [
    "torch.manual_seed(1)    # reproducible"
   ]
  },
  {
   "cell_type": "code",
   "execution_count": 4,
   "metadata": {},
   "outputs": [],
   "source": [
    "def train(EPOCH, LR, HIDDEN_SIZE, HIDDEN_LAYERS):\n",
    "    '''\n",
    "    EPOCH          训练次数\n",
    "    LR             学习率\n",
    "    HIDDEN_SIZE    隐藏层网络宽度\n",
    "    HIDDEN_LAYERS  隐藏层深度\n",
    "    \n",
    "    '''\n",
    "    time = np.arange(EPOCH)   # 产生自变量\n",
    "    loss_list = []\n",
    "    cn_panet = PAnet(n_feature=1, n_hidden=HIDDEN_SIZE, n_output=1, hidden_num=HIDDEN_LAYERS-1)     # define the network\n",
    "    print(cn_panet)  # net architecture\n",
    "    optimizer = torch.optim.SGD(cn_panet.parameters(), lr=LR)  # 调小学习率\n",
    "    loss_func = torch.nn.MSELoss()  # this is for regression mean squared loss\n",
    "    for t in range(EPOCH):\n",
    "        prediction = cn_panet(year)          # input x and predict based on x\n",
    "        loss = loss_func(prediction, cp)     # must be (1. nn output, 2. target)\n",
    "        loss_list.append(loss)\n",
    "\n",
    "        optimizer.zero_grad()                # clear gradients for next train\n",
    "        loss.backward()                      # backpropagation, compute gradients\n",
    "        optimizer.step()                     # apply gradients    \n",
    "    return time, loss_list\n",
    "    "
   ]
  },
  {
   "cell_type": "code",
   "execution_count": 5,
   "metadata": {},
   "outputs": [
    {
     "name": "stdout",
     "output_type": "stream",
     "text": [
      "PAnet(\n",
      "  (hidden1): Linear(in_features=1, out_features=30, bias=True)\n",
      "  (hidden2): ModuleList(\n",
      "    (0): Linear(in_features=30, out_features=30, bias=True)\n",
      "    (1): Linear(in_features=30, out_features=30, bias=True)\n",
      "    (2): Linear(in_features=30, out_features=30, bias=True)\n",
      "    (3): Linear(in_features=30, out_features=30, bias=True)\n",
      "  )\n",
      "  (predict): Linear(in_features=30, out_features=1, bias=True)\n",
      ")\n",
      "PAnet(\n",
      "  (hidden1): Linear(in_features=1, out_features=30, bias=True)\n",
      "  (hidden2): ModuleList(\n",
      "    (0): Linear(in_features=30, out_features=30, bias=True)\n",
      "    (1): Linear(in_features=30, out_features=30, bias=True)\n",
      "    (2): Linear(in_features=30, out_features=30, bias=True)\n",
      "    (3): Linear(in_features=30, out_features=30, bias=True)\n",
      "  )\n",
      "  (predict): Linear(in_features=30, out_features=1, bias=True)\n",
      ")\n",
      "PAnet(\n",
      "  (hidden1): Linear(in_features=1, out_features=30, bias=True)\n",
      "  (hidden2): ModuleList(\n",
      "    (0): Linear(in_features=30, out_features=30, bias=True)\n",
      "    (1): Linear(in_features=30, out_features=30, bias=True)\n",
      "    (2): Linear(in_features=30, out_features=30, bias=True)\n",
      "    (3): Linear(in_features=30, out_features=30, bias=True)\n",
      "  )\n",
      "  (predict): Linear(in_features=30, out_features=1, bias=True)\n",
      ")\n",
      "PAnet(\n",
      "  (hidden1): Linear(in_features=1, out_features=30, bias=True)\n",
      "  (hidden2): ModuleList(\n",
      "    (0): Linear(in_features=30, out_features=30, bias=True)\n",
      "    (1): Linear(in_features=30, out_features=30, bias=True)\n",
      "    (2): Linear(in_features=30, out_features=30, bias=True)\n",
      "    (3): Linear(in_features=30, out_features=30, bias=True)\n",
      "  )\n",
      "  (predict): Linear(in_features=30, out_features=1, bias=True)\n",
      ")\n",
      "PAnet(\n",
      "  (hidden1): Linear(in_features=1, out_features=30, bias=True)\n",
      "  (hidden2): ModuleList(\n",
      "    (0): Linear(in_features=30, out_features=30, bias=True)\n",
      "    (1): Linear(in_features=30, out_features=30, bias=True)\n",
      "    (2): Linear(in_features=30, out_features=30, bias=True)\n",
      "    (3): Linear(in_features=30, out_features=30, bias=True)\n",
      "  )\n",
      "  (predict): Linear(in_features=30, out_features=1, bias=True)\n",
      ")\n",
      "PAnet(\n",
      "  (hidden1): Linear(in_features=1, out_features=30, bias=True)\n",
      "  (hidden2): ModuleList(\n",
      "    (0): Linear(in_features=30, out_features=30, bias=True)\n",
      "    (1): Linear(in_features=30, out_features=30, bias=True)\n",
      "    (2): Linear(in_features=30, out_features=30, bias=True)\n",
      "    (3): Linear(in_features=30, out_features=30, bias=True)\n",
      "  )\n",
      "  (predict): Linear(in_features=30, out_features=1, bias=True)\n",
      ")\n"
     ]
    }
   ],
   "source": [
    "# Hyper Parameters\n",
    "EPOCH = 5000 # 训练次数\n",
    "LR = 0.002 # 学习率\n",
    "HIDDEN_SIZE = 30 # 隐藏层网络宽度\n",
    "HIDDEN_LAYERS = 5 # 隐藏层深度\n",
    "time, loss_list_02 = train(EPOCH, 0.2, HIDDEN_SIZE, HIDDEN_LAYERS)\n",
    "time, loss_list_0005 = train(EPOCH, 0.005, HIDDEN_SIZE, HIDDEN_LAYERS)\n",
    "time, loss_list_0002 = train(EPOCH, 0.002, HIDDEN_SIZE, HIDDEN_LAYERS)\n",
    "time, loss_list_0003 = train(EPOCH, 0.003, HIDDEN_SIZE, HIDDEN_LAYERS)\n",
    "time, loss_list_0004 = train(EPOCH, 0.004, HIDDEN_SIZE, HIDDEN_LAYERS)\n",
    "time, loss_list_0001 = train(EPOCH, 0.001, HIDDEN_SIZE, HIDDEN_LAYERS)\n"
   ]
  },
  {
   "cell_type": "code",
   "execution_count": 6,
   "metadata": {},
   "outputs": [
    {
     "data": {
      "text/plain": [
       "<matplotlib.legend.Legend at 0x17c6bc3a7f0>"
      ]
     },
     "execution_count": 6,
     "metadata": {},
     "output_type": "execute_result"
    },
    {
     "data": {
      "image/png": "[encoded data removed]",
      "text/plain": [
       "<Figure size 432x288 with 1 Axes>"
      ]
     },
     "metadata": {
      "needs_background": "light"
     },
     "output_type": "display_data"
    }
   ],
   "source": [
    "plt.plot(time, loss_list_0001, 'g-', label='lr=0.001') \n",
    "plt.plot(time, loss_list_0002, 'b-', label='lr=0.002') \n",
    "plt.plot(time, loss_list_0003, 'k-', label='lr=0.003') \n",
    "plt.plot(time, loss_list_0004, 'y-', label='lr=0.004') \n",
    "plt.plot(time, loss_list_0005, 'r-', label='lr=0.005') \n",
    "\n",
    "#plt.plot(time, loss_list_000002, 'k-', label='lr=0.00002') \n",
    "plt.legend(loc='lower right')  # 说明图例  # loc='lower right' 设置图例放置位置"
   ]
  },
  {
   "cell_type": "code",
   "execution_count": 7,
   "metadata": {},
   "outputs": [
    {
     "data": {
      "text/plain": [
       "<matplotlib.legend.Legend at 0x17c7fb70550>"
      ]
     },
     "execution_count": 7,
     "metadata": {},
     "output_type": "execute_result"
    },
    {
     "data": {
      "image/png": "[encoded data removed]",
      "text/plain": [
       "<Figure size 432x288 with 1 Axes>"
      ]
     },
     "metadata": {
      "needs_background": "light"
     },
     "output_type": "display_data"
    }
   ],
   "source": [
    "plt.plot(time[100:], loss_list_0001[100:], 'g-', label='lr=0.001') \n",
    "plt.plot(time[100:], loss_list_0002[100:], 'b-', label='lr=0.002') \n",
    "plt.plot(time[100:], loss_list_0003[100:], 'k-', label='lr=0.003') \n",
    "plt.plot(time[100:], loss_list_0004[100:], 'y-', label='lr=0.004') \n",
    "plt.plot(time[100:], loss_list_0005[100:], 'r-', label='lr=0.005') \n",
    "plt.legend(loc='lower right')  # 说明图例  # loc='lower right' 设置图例放置位置"
   ]
  },
  {
   "cell_type": "markdown",
   "metadata": {},
   "source": [
    "学习率为0.003的时候，下降得最快"
   ]
  },
  {
   "cell_type": "code",
   "execution_count": 8,
   "metadata": {},
   "outputs": [],
   "source": [
    "# 训练并且保存网络\n",
    "def trainandsave(EPOCH, LR, HIDDEN_SIZE, HIDDEN_LAYERS):\n",
    "    '''\n",
    "    EPOCH          训练次数\n",
    "    LR             学习率\n",
    "    HIDDEN_SIZE    隐藏层网络宽度\n",
    "    HIDDEN_LAYERS  隐藏层深度\n",
    "    \n",
    "    '''\n",
    "    time = np.arange(EPOCH)   # 产生自变量\n",
    "    loss_list = []\n",
    "    cn_panet = PAnet(n_feature=1, n_hidden=HIDDEN_SIZE, n_output=1, hidden_num=HIDDEN_LAYERS-1)     # define the network\n",
    "    print(cn_panet)  # net architecture\n",
    "    optimizer = torch.optim.SGD(cn_panet.parameters(), lr=LR)  # 调小学习率\n",
    "    loss_func = torch.nn.MSELoss()  # this is for regression mean squared loss\n",
    "    for t in range(EPOCH):\n",
    "        prediction = cn_panet(year)          # input x and predict based on x\n",
    "        loss = loss_func(prediction, cp)     # must be (1. nn output, 2. target)\n",
    "        loss_list.append(loss)\n",
    "\n",
    "        optimizer.zero_grad()                # clear gradients for next train\n",
    "        loss.backward()                      # backpropagation, compute gradients\n",
    "        optimizer.step()                     # apply gradients    \n",
    "    torch.save(cn_panet, 'cn_panet.pkl')  # save entire net\n",
    "    print(\"成功保存网络\")\n",
    "    return time, loss_list\n",
    "    "
   ]
  },
  {
   "cell_type": "code",
   "execution_count": 9,
   "metadata": {},
   "outputs": [],
   "source": [
    "def restore_net(netname):\n",
    "    # restore entire net1 to net2\n",
    "    net = torch.load(netname)\n",
    "    return net\n"
   ]
  },
  {
   "cell_type": "code",
   "execution_count": 10,
   "metadata": {},
   "outputs": [
    {
     "name": "stdout",
     "output_type": "stream",
     "text": [
      "PAnet(\n",
      "  (hidden1): Linear(in_features=1, out_features=30, bias=True)\n",
      "  (hidden2): ModuleList(\n",
      "    (0): Linear(in_features=30, out_features=30, bias=True)\n",
      "    (1): Linear(in_features=30, out_features=30, bias=True)\n",
      "    (2): Linear(in_features=30, out_features=30, bias=True)\n",
      "    (3): Linear(in_features=30, out_features=30, bias=True)\n",
      "  )\n",
      "  (predict): Linear(in_features=30, out_features=1, bias=True)\n",
      ")\n",
      "成功保存网络\n"
     ]
    },
    {
     "name": "stderr",
     "output_type": "stream",
     "text": [
      "D:\\mysoftware\\anaconda\\envs\\py36\\lib\\site-packages\\torch\\serialization.py:292: UserWarning: Couldn't retrieve source code for container of type PAnet. It won't be checked for correctness upon loading.\n",
      "  \"type \" + obj.__name__ + \". It won't be checked \"\n",
      "D:\\mysoftware\\anaconda\\envs\\py36\\lib\\site-packages\\torch\\serialization.py:292: UserWarning: Couldn't retrieve source code for container of type Linear. It won't be checked for correctness upon loading.\n",
      "  \"type \" + obj.__name__ + \". It won't be checked \"\n",
      "D:\\mysoftware\\anaconda\\envs\\py36\\lib\\site-packages\\torch\\serialization.py:292: UserWarning: Couldn't retrieve source code for container of type ModuleList. It won't be checked for correctness upon loading.\n",
      "  \"type \" + obj.__name__ + \". It won't be checked \"\n"
     ]
    }
   ],
   "source": [
    "# Hyper Parameters\n",
    "EPOCH = 5000 # 训练次数\n",
    "LR = 0.003 # 学习率\n",
    "HIDDEN_SIZE = 30 # 隐藏层网络宽度\n",
    "HIDDEN_LAYERS = 5 # 隐藏层深度\n",
    "time, loss_list_02 = trainandsave(EPOCH, LR, HIDDEN_SIZE, HIDDEN_LAYERS)\n"
   ]
  },
  {
   "cell_type": "code",
   "execution_count": 11,
   "metadata": {},
   "outputs": [
    {
     "name": "stdout",
     "output_type": "stream",
     "text": [
      "torch.Size([1, 1])\n",
      "预测的2019年人口为： 14.496176719665527 亿\n"
     ]
    }
   ],
   "source": [
    "reload_net = restore_net('cn_panet.pkl')\n",
    "year_2019 = 2019 - 1958\n",
    "year_2019 = torch.FloatTensor([[year_2019]])\n",
    "print(year_2019.shape)\n",
    "cp_2019 = reload_net(year_2019)\n",
    "print(\"预测的2019年人口为：\",cp_2019.item(),\"亿\")"
   ]
  }
 ],
 "metadata": {
  "kernelspec": {
   "display_name": "Python 3",
   "language": "python",
   "name": "python3"
  },
  "language_info": {
   "codemirror_mode": {
    "name": "ipython",
    "version": 3
   },
   "file_extension": ".py",
   "mimetype": "text/x-python",
   "name": "python",
   "nbconvert_exporter": "python",
   "pygments_lexer": "ipython3",
   "version": "3.6.9"
  }
 },
 "nbformat": 4,
 "nbformat_minor": 2
}
